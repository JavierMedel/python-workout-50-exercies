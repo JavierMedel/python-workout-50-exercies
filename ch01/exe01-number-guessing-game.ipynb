{
 "cells": [
  {
   "cell_type": "code",
   "execution_count": null,
   "metadata": {},
   "outputs": [],
   "source": [
    "import random\n",
    "\n",
    "def guessing_name():\n",
    "    number = random.randint(1,10)\n",
    "\n",
    "    name = input('Enter your name: ')\n",
    "    print(f'Hello, {name}!')\n",
    "\n",
    "    while True:\n",
    "\n",
    "        answer = input('Enter your guess number: ')\n",
    "\n",
    "        if answer != '':\n",
    "            answer = int(answer)\n",
    "\n",
    "            print(f'Your guess number: {answer:#>10}')\n",
    "        \n",
    "            if answer == number:\n",
    "                print('Just right')\n",
    "                break\n",
    "            elif answer < number:\n",
    "                print('Too low')\n",
    "            else:\n",
    "                print('Too high')\n",
    "        else:\n",
    "            pass"
   ]
  },
  {
   "cell_type": "code",
   "execution_count": 19,
   "metadata": {},
   "outputs": [],
   "source": [
    "guessing_name()"
   ]
  },
  {
   "cell_type": "code",
   "execution_count": null,
   "metadata": {},
   "outputs": [],
   "source": []
  }
 ],
 "metadata": {
  "kernelspec": {
   "display_name": "Python 3.8.8 ('base')",
   "language": "python",
   "name": "python3"
  },
  "language_info": {
   "codemirror_mode": {
    "name": "ipython",
    "version": 3
   },
   "file_extension": ".py",
   "mimetype": "text/x-python",
   "name": "python",
   "nbconvert_exporter": "python",
   "pygments_lexer": "ipython3",
   "version": "3.8.8"
  },
  "orig_nbformat": 4,
  "vscode": {
   "interpreter": {
    "hash": "ad2bdc8ecc057115af97d19610ffacc2b4e99fae6737bb82f5d7fb13d2f2c186"
   }
  }
 },
 "nbformat": 4,
 "nbformat_minor": 2
}
